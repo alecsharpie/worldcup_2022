{
 "cells": [
  {
   "cell_type": "code",
   "execution_count": null,
   "metadata": {},
   "outputs": [],
   "source": []
  }
 ],
 "metadata": {
  "kernelspec": {
   "display_name": "Python 3.8.6 64-bit ('lewagon')",
   "language": "python",
   "name": "python3"
  },
  "language_info": {
   "name": "python",
   "version": "3.8.6"
  },
  "orig_nbformat": 4,
  "vscode": {
   "interpreter": {
    "hash": "e80cf3b251128dbe2c86c59fef2605d5a5f5a07ddcd7eac38ef92afdf6a41af1"
   }
  }
 },
 "nbformat": 4,
 "nbformat_minor": 2
}
